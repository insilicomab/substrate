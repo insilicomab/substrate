{
 "cells": [
  {
   "cell_type": "code",
   "execution_count": 2,
   "metadata": {},
   "outputs": [
    {
     "name": "stderr",
     "output_type": "stream",
     "text": [
      "/Users/mitsutaka/.pyenv/versions/anaconda3-2021.11/envs/pytorch/lib/python3.9/site-packages/tqdm/auto.py:22: TqdmWarning: IProgress not found. Please update jupyter and ipywidgets. See https://ipywidgets.readthedocs.io/en/stable/user_install.html\n",
      "  from .autonotebook import tqdm as notebook_tqdm\n"
     ]
    }
   ],
   "source": [
    "import pandas as pd\n",
    "\n",
    "import argparse\n",
    "\n",
    "import torch\n",
    "from torch.utils.data import DataLoader\n",
    "from torchvision import transforms\n",
    "\n",
    "import timm\n",
    "\n",
    "import wandb\n",
    "\n",
    "from src import set_device, SubstrateDataset"
   ]
  },
  {
   "cell_type": "code",
   "execution_count": 4,
   "metadata": {},
   "outputs": [],
   "source": [
    "class TestTransforms():\n",
    "\n",
    "    def __init__(self, image_size):\n",
    "        \n",
    "        self.data_transform = {\n",
    "            'test': transforms.Compose([\n",
    "                transforms.Resize((image_size, image_size)),\n",
    "                transforms.ToTensor(),\n",
    "                transforms.Normalize(\n",
    "                    [0.485, 0.456, 0.406],\n",
    "                    [0.229, 0.224, 0.225]\n",
    "                    ),\n",
    "                ]),\n",
    "        }\n",
    "    \n",
    "    def __call__(self, phase, img):\n",
    "        return self.data_transform[phase](img)"
   ]
  },
  {
   "cell_type": "code",
   "execution_count": 5,
   "metadata": {},
   "outputs": [],
   "source": [
    "def predict_classes(model, test_dataloader, device):\n",
    "    preds = []\n",
    "    for images, _ in test_dataloader:\n",
    "        images = images.to(device)\n",
    "        \n",
    "        model.eval()\n",
    "        \n",
    "        outputs = model(images)\n",
    "        pred = torch.argmax(outputs, dim=1)\n",
    "        pred = pred.to('cpu').numpy()\n",
    "\n",
    "        preds.extend(pred)\n",
    "\n",
    "        if len(preds) % 100 == 0:\n",
    "            print(f'{len(preds)} predictions done!')\n",
    "\n",
    "    return preds"
   ]
  },
  {
   "cell_type": "code",
   "execution_count": 10,
   "metadata": {},
   "outputs": [],
   "source": [
    "def predict(model, test_dataloader, device):\n",
    "    outputs_list = []\n",
    "    for images, _ in test_dataloader:\n",
    "        images = images.to(device)\n",
    "        \n",
    "        model.eval()\n",
    "        \n",
    "        outputs = model(images)\n",
    "        outputs = outputs.to('cpu').detach().numpy()\n",
    "\n",
    "        outputs_list.extend(outputs)\n",
    "\n",
    "        if len(outputs_list) % 100 == 0:\n",
    "            print(f'{len(outputs_list)} predictions done!')\n",
    "\n",
    "    return outputs_list"
   ]
  },
  {
   "cell_type": "code",
   "execution_count": 7,
   "metadata": {},
   "outputs": [
    {
     "name": "stdout",
     "output_type": "stream",
     "text": [
      "device: cpu\n"
     ]
    }
   ],
   "source": [
    "# gpu or cpu\n",
    "device = set_device()\n",
    "\n",
    "# read data\n",
    "test = pd.read_csv('input/sample_submit.tsv', sep='\\t', header=None)\n",
    "\n",
    "# image name list & dummy label list\n",
    "x_test = test[0].values\n",
    "dummy = test[1].values\n",
    "\n",
    "# dataset\n",
    "test_dataset = SubstrateDataset(\n",
    "    x_test,\n",
    "    dummy,\n",
    "    img_dir=f'input/v4/test',\n",
    "    transform=TestTransforms(image_size=224),\n",
    "    phase='test'\n",
    ")\n",
    "\n",
    "# dataloader\n",
    "test_dataloader = DataLoader(test_dataset, batch_size=1, shuffle=False)"
   ]
  },
  {
   "cell_type": "markdown",
   "metadata": {},
   "source": [
    "### Hard voting"
   ]
  },
  {
   "cell_type": "code",
   "execution_count": 13,
   "metadata": {},
   "outputs": [
    {
     "name": "stdout",
     "output_type": "stream",
     "text": [
      "100 predictions done!\n",
      "200 predictions done!\n",
      "100 predictions done!\n",
      "200 predictions done!\n",
      "100 predictions done!\n",
      "200 predictions done!\n",
      "100 predictions done!\n",
      "200 predictions done!\n",
      "100 predictions done!\n",
      "200 predictions done!\n"
     ]
    }
   ],
   "source": [
    "preds_list = []\n",
    "for i in range(5):\n",
    "    # load model\n",
    "    model = timm.create_model('convnext_base', pretrained=False, num_classes=2)\n",
    "\n",
    "    # restore k-fold model in wandb\n",
    "    best_model = wandb.restore(f'sleek-shape-45-{i}.ckpt', run_path='insilicomab/substrate/366jyvg6')\n",
    "\n",
    "    # load state_dict from ckpt with 'model.' deleted\n",
    "    state_dict = torch.load(best_model.name, map_location=torch.device(device))['state_dict']\n",
    "    new_state_dict = { k.lstrip('model.') : v for k, v in state_dict.items() }\n",
    "    model.load_state_dict(new_state_dict, strict=True)\n",
    "\n",
    "    # inference\n",
    "    preds = predict_classes(model, test_dataloader, device)\n",
    "    preds_list.append(preds)"
   ]
  },
  {
   "cell_type": "code",
   "execution_count": 42,
   "metadata": {},
   "outputs": [
    {
     "data": {
      "text/html": [
       "<div>\n",
       "<style scoped>\n",
       "    .dataframe tbody tr th:only-of-type {\n",
       "        vertical-align: middle;\n",
       "    }\n",
       "\n",
       "    .dataframe tbody tr th {\n",
       "        vertical-align: top;\n",
       "    }\n",
       "\n",
       "    .dataframe thead th {\n",
       "        text-align: right;\n",
       "    }\n",
       "</style>\n",
       "<table border=\"1\" class=\"dataframe\">\n",
       "  <thead>\n",
       "    <tr style=\"text-align: right;\">\n",
       "      <th></th>\n",
       "      <th>0</th>\n",
       "      <th>1</th>\n",
       "      <th>2</th>\n",
       "      <th>3</th>\n",
       "      <th>4</th>\n",
       "    </tr>\n",
       "  </thead>\n",
       "  <tbody>\n",
       "    <tr>\n",
       "      <th>0</th>\n",
       "      <td>1</td>\n",
       "      <td>0</td>\n",
       "      <td>1</td>\n",
       "      <td>1</td>\n",
       "      <td>1</td>\n",
       "    </tr>\n",
       "    <tr>\n",
       "      <th>1</th>\n",
       "      <td>0</td>\n",
       "      <td>0</td>\n",
       "      <td>0</td>\n",
       "      <td>0</td>\n",
       "      <td>0</td>\n",
       "    </tr>\n",
       "    <tr>\n",
       "      <th>2</th>\n",
       "      <td>0</td>\n",
       "      <td>0</td>\n",
       "      <td>0</td>\n",
       "      <td>0</td>\n",
       "      <td>0</td>\n",
       "    </tr>\n",
       "    <tr>\n",
       "      <th>3</th>\n",
       "      <td>0</td>\n",
       "      <td>0</td>\n",
       "      <td>0</td>\n",
       "      <td>0</td>\n",
       "      <td>0</td>\n",
       "    </tr>\n",
       "    <tr>\n",
       "      <th>4</th>\n",
       "      <td>1</td>\n",
       "      <td>1</td>\n",
       "      <td>1</td>\n",
       "      <td>1</td>\n",
       "      <td>1</td>\n",
       "    </tr>\n",
       "    <tr>\n",
       "      <th>...</th>\n",
       "      <td>...</td>\n",
       "      <td>...</td>\n",
       "      <td>...</td>\n",
       "      <td>...</td>\n",
       "      <td>...</td>\n",
       "    </tr>\n",
       "    <tr>\n",
       "      <th>208</th>\n",
       "      <td>1</td>\n",
       "      <td>1</td>\n",
       "      <td>1</td>\n",
       "      <td>1</td>\n",
       "      <td>1</td>\n",
       "    </tr>\n",
       "    <tr>\n",
       "      <th>209</th>\n",
       "      <td>0</td>\n",
       "      <td>0</td>\n",
       "      <td>0</td>\n",
       "      <td>0</td>\n",
       "      <td>0</td>\n",
       "    </tr>\n",
       "    <tr>\n",
       "      <th>210</th>\n",
       "      <td>0</td>\n",
       "      <td>0</td>\n",
       "      <td>0</td>\n",
       "      <td>0</td>\n",
       "      <td>0</td>\n",
       "    </tr>\n",
       "    <tr>\n",
       "      <th>211</th>\n",
       "      <td>1</td>\n",
       "      <td>1</td>\n",
       "      <td>1</td>\n",
       "      <td>1</td>\n",
       "      <td>1</td>\n",
       "    </tr>\n",
       "    <tr>\n",
       "      <th>212</th>\n",
       "      <td>1</td>\n",
       "      <td>1</td>\n",
       "      <td>1</td>\n",
       "      <td>1</td>\n",
       "      <td>1</td>\n",
       "    </tr>\n",
       "  </tbody>\n",
       "</table>\n",
       "<p>213 rows × 5 columns</p>\n",
       "</div>"
      ],
      "text/plain": [
       "     0  1  2  3  4\n",
       "0    1  0  1  1  1\n",
       "1    0  0  0  0  0\n",
       "2    0  0  0  0  0\n",
       "3    0  0  0  0  0\n",
       "4    1  1  1  1  1\n",
       "..  .. .. .. .. ..\n",
       "208  1  1  1  1  1\n",
       "209  0  0  0  0  0\n",
       "210  0  0  0  0  0\n",
       "211  1  1  1  1  1\n",
       "212  1  1  1  1  1\n",
       "\n",
       "[213 rows x 5 columns]"
      ]
     },
     "execution_count": 42,
     "metadata": {},
     "output_type": "execute_result"
    }
   ],
   "source": [
    "preds = pd.DataFrame(preds_list).T\n",
    "preds"
   ]
  },
  {
   "cell_type": "markdown",
   "metadata": {},
   "source": [
    "### Soft voting"
   ]
  },
  {
   "cell_type": "code",
   "execution_count": 11,
   "metadata": {},
   "outputs": [
    {
     "name": "stdout",
     "output_type": "stream",
     "text": [
      "100 predictions done!\n",
      "200 predictions done!\n",
      "100 predictions done!\n",
      "200 predictions done!\n",
      "100 predictions done!\n",
      "200 predictions done!\n",
      "100 predictions done!\n",
      "200 predictions done!\n",
      "100 predictions done!\n",
      "200 predictions done!\n"
     ]
    }
   ],
   "source": [
    "preds_list = []\n",
    "for i in range(5):\n",
    "    # load model\n",
    "    model = timm.create_model('convnext_base', pretrained=False, num_classes=2)\n",
    "\n",
    "    # restore k-fold model in wandb\n",
    "    best_model = wandb.restore(f'sleek-shape-45-{i}.ckpt', run_path='insilicomab/substrate/366jyvg6')\n",
    "\n",
    "    # load state_dict from ckpt with 'model.' deleted\n",
    "    state_dict = torch.load(best_model.name, map_location=torch.device(device))['state_dict']\n",
    "    new_state_dict = { k.lstrip('model.') : v for k, v in state_dict.items() }\n",
    "    model.load_state_dict(new_state_dict, strict=True)\n",
    "\n",
    "    # inference\n",
    "    preds = predict(model, test_dataloader, device)\n",
    "    preds_list.append(preds)"
   ]
  },
  {
   "cell_type": "code",
   "execution_count": 25,
   "metadata": {},
   "outputs": [],
   "source": [
    "import numpy as np\n",
    "\n",
    "preds_mean = np.mean(preds_list, axis=0)\n",
    "pred = preds_mean.argmax(axis=1)"
   ]
  },
  {
   "cell_type": "code",
   "execution_count": 26,
   "metadata": {},
   "outputs": [],
   "source": [
    "# submit\n",
    "test[1] = pred\n",
    "test.to_csv(\n",
    "    'submit/submission_soft.tsv',\n",
    "    sep='\\t',\n",
    "    header=None,\n",
    "    index=None\n",
    ")"
   ]
  }
 ],
 "metadata": {
  "kernelspec": {
   "display_name": "Python 3.9.13 ('pytorch')",
   "language": "python",
   "name": "python3"
  },
  "language_info": {
   "codemirror_mode": {
    "name": "ipython",
    "version": 3
   },
   "file_extension": ".py",
   "mimetype": "text/x-python",
   "name": "python",
   "nbconvert_exporter": "python",
   "pygments_lexer": "ipython3",
   "version": "3.9.13"
  },
  "orig_nbformat": 4,
  "vscode": {
   "interpreter": {
    "hash": "cc7c07a52f796c0f578ee1b3c5f6af82c1534d772aea673f9d4d8307341b1ce9"
   }
  }
 },
 "nbformat": 4,
 "nbformat_minor": 2
}
