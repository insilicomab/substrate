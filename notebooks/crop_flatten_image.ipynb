{
 "cells": [
  {
   "cell_type": "code",
   "execution_count": 1,
   "metadata": {},
   "outputs": [],
   "source": [
    "import numpy as np\n",
    "\n",
    "import cv2\n",
    "\n",
    "import os\n",
    "import glob\n",
    "import re\n",
    "\n",
    "import argparse"
   ]
  },
  {
   "cell_type": "code",
   "execution_count": 2,
   "metadata": {},
   "outputs": [],
   "source": [
    "def main(img_dir, save_dir, phase):\n",
    "    # make image list\n",
    "    if phase=='train':\n",
    "        img_list = glob.glob(f'../input/raw/{phase}/{img_dir}/*.jpeg')\n",
    "    \n",
    "    if phase=='test':\n",
    "        img_list = glob.glob(f'../input/raw/{phase}/*.jpeg')\n",
    "    #print(img_list)\n",
    "    \n",
    "    # save model path\n",
    "    if phase=='train':\n",
    "        SAVE_MODEL_PATH = f'../input/{save_dir}/{phase}/{img_dir}/'\n",
    "    if phase=='test':\n",
    "        SAVE_MODEL_PATH = f'../input/{save_dir}/{phase}/'\n",
    "    os.makedirs(SAVE_MODEL_PATH, exist_ok=True)\n",
    "    print(SAVE_MODEL_PATH)\n",
    "\n",
    "    for image in img_list:\n",
    "\n",
    "        # image file name\n",
    "        if phase=='train':\n",
    "            file_name = re.split('[/////]', image)[5]\n",
    "        if phase=='test':\n",
    "            file_name = re.split('[////]', image)[4]\n",
    "        #print(file_name)\n",
    "\n",
    "        # read an image\n",
    "        img = cv2.imread(image)\n",
    "\n",
    "        # make img_copy\n",
    "        img_copy = img.copy()\n",
    "\n",
    "        # gray scaling\n",
    "        img_gray = cv2.cvtColor(img_copy, cv2.COLOR_BGR2GRAY)\n",
    "\n",
    "        # binarization using Otsu's method\n",
    "        _, th = cv2.threshold(img_gray,0,255,cv2.THRESH_BINARY+cv2.THRESH_OTSU)\n",
    "\n",
    "        # configure the kernel\n",
    "        kernel = np.ones((100,100),np.uint8)\n",
    "\n",
    "        # morphological transformation(Dilation)\n",
    "        th_dilation = cv2.dilate(cv2.bitwise_not(th),kernel,iterations = 1)\n",
    "\n",
    "        # contour extraction\n",
    "        contours, _ = cv2.findContours(\n",
    "            th_dilation,\n",
    "            cv2.RETR_LIST,\n",
    "            cv2.CHAIN_APPROX_NONE\n",
    "        )\n",
    "\n",
    "        # extract contours\n",
    "        for i in range(len(contours)):\n",
    "            if len(contours[i]) > 0:\n",
    "                \n",
    "                # remove small contours\n",
    "                if cv2.contourArea(contours[i]) < 30000:\n",
    "                    continue\n",
    "                \n",
    "                rect = contours[i]\n",
    "                x, y, w, h = cv2.boundingRect(rect)\n",
    "                #print(f'x: {x}, y:{y}, w:{w}, h:{h}')\n",
    "\n",
    "                # which is bigger ? w? h? + 20 pixcel margin\n",
    "                b = max(w, h)\n",
    "\n",
    "                padding = 5\n",
    "                \n",
    "                # top, bottom, left, right\n",
    "                top, bottom, left, right = y-padding, y+b+padding, x-padding, x+b+padding\n",
    "\n",
    "        crop_img = img[top : bottom, left : right]\n",
    "\n",
    "        # create a CLAHE object (Arguments are optional).\n",
    "        clahe = cv2.createCLAHE(clipLimit=2.0, tileGridSize=(8,8))\n",
    "\n",
    "        b1,g1,r1 = cv2.split(crop_img)\n",
    "        b2 = clahe.apply(b1)\n",
    "        g2 = clahe.apply(g1)\n",
    "        r2 = clahe.apply(r1)\n",
    "\n",
    "        crop__flatten_img = cv2.merge((b2,g2,r2))\n",
    "        \n",
    "        cv2.imwrite(\n",
    "            os.path.join(SAVE_MODEL_PATH, file_name),\n",
    "            crop__flatten_img,\n",
    "            [cv2.IMWRITE_JPEG_QUALITY, 100]\n",
    "        )"
   ]
  },
  {
   "cell_type": "code",
   "execution_count": 7,
   "metadata": {},
   "outputs": [
    {
     "name": "stdout",
     "output_type": "stream",
     "text": [
      "../input/crop_flatten/test/\n"
     ]
    }
   ],
   "source": [
    "# create cropped image\n",
    "main(\n",
    "    img_dir='regular',\n",
    "    save_dir='crop_flatten',\n",
    "    phase='test'\n",
    ")"
   ]
  }
 ],
 "metadata": {
  "kernelspec": {
   "display_name": "Python 3.9.13 ('cv')",
   "language": "python",
   "name": "python3"
  },
  "language_info": {
   "codemirror_mode": {
    "name": "ipython",
    "version": 3
   },
   "file_extension": ".py",
   "mimetype": "text/x-python",
   "name": "python",
   "nbconvert_exporter": "python",
   "pygments_lexer": "ipython3",
   "version": "3.9.13"
  },
  "orig_nbformat": 4,
  "vscode": {
   "interpreter": {
    "hash": "f1b3473188b725fc2de557adeb6253363c5bfae47c80c961671fc1601f97077d"
   }
  }
 },
 "nbformat": 4,
 "nbformat_minor": 2
}
